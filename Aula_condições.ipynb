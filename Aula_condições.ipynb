{
  "nbformat": 4,
  "nbformat_minor": 0,
  "metadata": {
    "colab": {
      "name": "Aula condições.ipynb",
      "provenance": [],
      "collapsed_sections": [],
      "authorship_tag": "ABX9TyOLk54llCUgai5Sv54zH49u",
      "include_colab_link": true
    },
    "kernelspec": {
      "name": "python3",
      "display_name": "Python 3"
    }
  },
  "cells": [
    {
      "cell_type": "markdown",
      "metadata": {
        "id": "view-in-github",
        "colab_type": "text"
      },
      "source": [
        "<a href=\"https://colab.research.google.com/github/michaellbrito/Python/blob/master/Aula_condi%C3%A7%C3%B5es.ipynb\" target=\"_parent\"><img src=\"https://colab.research.google.com/assets/colab-badge.svg\" alt=\"Open In Colab\"/></a>"
      ]
    },
    {
      "cell_type": "code",
      "metadata": {
        "id": "_X86yAMtx9kH",
        "colab_type": "code",
        "outputId": "d4f56021-e043-4bb2-e811-d555818a2983",
        "colab": {
          "base_uri": "https://localhost:8080/",
          "height": 136
        }
      },
      "source": [
        "x = -1\n",
        "y = -2\n",
        "a = 0\n",
        "b = 2\n",
        "if x > y:\n",
        "  print (\"x maior que y\")\n",
        "if x < y:\n",
        "  print (\"Y maior que x\")\n",
        "if x == y:\n",
        "  print (\"y = x\")\n",
        "\n",
        "if x == y:\n",
        "    print (\"ok\")\n",
        "else:\n",
        "    print (\"NOK\")\n",
        "print (\"COMPARACoES Encadeadas\")\n",
        "\n",
        "if x > y:\n",
        "  if x > 0:\n",
        "    print (\"x positivo\")\n",
        "  else:\n",
        "    print (\"x negativo\")\n",
        "else:\n",
        "  print (\"Y maior\")\n",
        "print (\"ELIF\")\n",
        "if a == b:\n",
        "    print (\"iguais\")\n",
        "elif a > 0:\n",
        "    print (\"x positivo\")\n",
        "else:\n",
        "    print (\"diferentes\")\n",
        "print (\"fim\")"
      ],
      "execution_count": 0,
      "outputs": [
        {
          "output_type": "stream",
          "text": [
            "x maior que y\n",
            "NOK\n",
            "COMPARACoES Encadeadas\n",
            "x negativo\n",
            "ELIF\n",
            "diferentes\n",
            "fim\n"
          ],
          "name": "stdout"
        }
      ]
    }
  ]
}