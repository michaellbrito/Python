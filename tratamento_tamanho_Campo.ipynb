{
  "nbformat": 4,
  "nbformat_minor": 0,
  "metadata": {
    "colab": {
      "name": "tratamento_tamanho_Campo.ipynb",
      "provenance": [],
      "authorship_tag": "ABX9TyNlXXamI/ZYw8h1Yy861SV+",
      "include_colab_link": true
    },
    "kernelspec": {
      "name": "python3",
      "display_name": "Python 3"
    }
  },
  "cells": [
    {
      "cell_type": "markdown",
      "metadata": {
        "id": "view-in-github",
        "colab_type": "text"
      },
      "source": [
        "<a href=\"https://colab.research.google.com/github/michaellbrito/Python/blob/master/tratamento_tamanho_Campo.ipynb\" target=\"_parent\"><img src=\"https://colab.research.google.com/assets/colab-badge.svg\" alt=\"Open In Colab\"/></a>"
      ]
    },
    {
      "cell_type": "code",
      "metadata": {
        "id": "MY-oe5zxzsBI",
        "colab_type": "code",
        "colab": {
          "base_uri": "https://localhost:8080/",
          "height": 51
        },
        "outputId": "14a815bd-b3c5-449f-a8db-75100671439f"
      },
      "source": [
        "texto = input (\"digite o nome\")\n",
        "texto = texto.ljust(15)\n",
        "print(texto[0:15])"
      ],
      "execution_count": 8,
      "outputs": [
        {
          "output_type": "stream",
          "text": [
            "digite o nome123456789\n",
            "123456789      \n"
          ],
          "name": "stdout"
        }
      ]
    }
  ]
}