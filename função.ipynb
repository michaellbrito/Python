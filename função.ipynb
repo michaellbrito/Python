{
  "nbformat": 4,
  "nbformat_minor": 0,
  "metadata": {
    "colab": {
      "name": "função.ipynb",
      "provenance": [],
      "collapsed_sections": [],
      "authorship_tag": "ABX9TyOA3LqiwhMmYEgw3p1zcMeR",
      "include_colab_link": true
    },
    "kernelspec": {
      "name": "python3",
      "display_name": "Python 3"
    }
  },
  "cells": [
    {
      "cell_type": "markdown",
      "metadata": {
        "id": "view-in-github",
        "colab_type": "text"
      },
      "source": [
        "<a href=\"https://colab.research.google.com/github/michaellbrito/Python/blob/master/fun%C3%A7%C3%A3o.ipynb\" target=\"_parent\"><img src=\"https://colab.research.google.com/assets/colab-badge.svg\" alt=\"Open In Colab\"/></a>"
      ]
    },
    {
      "cell_type": "code",
      "metadata": {
        "id": "kHCTY3BN2Jop",
        "colab_type": "code",
        "outputId": "5f199acc-008c-4b98-e31a-68ee16567936",
        "colab": {
          "base_uri": "https://localhost:8080/",
          "height": 68
        }
      },
      "source": [
        "a = 1\n",
        "b = 2\n",
        "\n",
        "print (a)\n",
        "print (b)\n",
        "\n",
        "def calc (a,b,c):\n",
        "  return a+b+c\n",
        "\n",
        "print (calc(-2,-5,-3))\n"
      ],
      "execution_count": 0,
      "outputs": [
        {
          "output_type": "stream",
          "text": [
            "1\n",
            "2\n",
            "-10\n"
          ],
          "name": "stdout"
        }
      ]
    }
  ]
}