{
  "nbformat": 4,
  "nbformat_minor": 0,
  "metadata": {
    "colab": {
      "name": "listas.ipynb",
      "provenance": [],
      "authorship_tag": "ABX9TyNq8gs4+rNr+VzEdxXqiO4R",
      "include_colab_link": true
    },
    "kernelspec": {
      "name": "python3",
      "display_name": "Python 3"
    }
  },
  "cells": [
    {
      "cell_type": "markdown",
      "metadata": {
        "id": "view-in-github",
        "colab_type": "text"
      },
      "source": [
        "<a href=\"https://colab.research.google.com/github/michaellbrito/Python/blob/master/listas.ipynb\" target=\"_parent\"><img src=\"https://colab.research.google.com/assets/colab-badge.svg\" alt=\"Open In Colab\"/></a>"
      ]
    },
    {
      "cell_type": "code",
      "metadata": {
        "id": "i1CYLqev4752",
        "colab_type": "code",
        "outputId": "22fa31fc-5e17-451d-f55e-e21b720361cb",
        "colab": {
          "base_uri": "https://localhost:8080/",
          "height": 969
        }
      },
      "source": [
        "x = 1\n",
        "\n",
        "while x < 2:\n",
        "  print(x)\n",
        "  x+=1\n",
        "  print(\"novo valor:\")\n",
        "  print (x)\n",
        "\n",
        "print (\"------------------------lista--------------\")\n",
        "i = \"ko\"\n",
        "lista1 = [1,2,3,4,5]\n",
        "lista2 = [\"um\",\"dois\",\"tres\"]\n",
        "for e in lista2:\n",
        "  print(i)\n",
        "print (lista2)\n",
        "print (\"------------------------range--------------\")\n",
        "for a in range(10,25):\n",
        "  print(a)\n",
        "  print (\"------------------------index--------------\")\n",
        "  ind = lista2[0]\n",
        "  print (ind)\n",
        "print (\"------------------------inserir listas--------------\")\n",
        "listan.append(\"item\")\n",
        "print (listan)"
      ],
      "execution_count": 6,
      "outputs": [
        {
          "output_type": "stream",
          "text": [
            "1\n",
            "novo valor:\n",
            "2\n",
            "------------------------lista--------------\n",
            "ko\n",
            "ko\n",
            "ko\n",
            "['um', 'dois', 'tres']\n",
            "------------------------range--------------\n",
            "10\n",
            "------------------------index--------------\n",
            "um\n",
            "11\n",
            "------------------------index--------------\n",
            "um\n",
            "12\n",
            "------------------------index--------------\n",
            "um\n",
            "13\n",
            "------------------------index--------------\n",
            "um\n",
            "14\n",
            "------------------------index--------------\n",
            "um\n",
            "15\n",
            "------------------------index--------------\n",
            "um\n",
            "16\n",
            "------------------------index--------------\n",
            "um\n",
            "17\n",
            "------------------------index--------------\n",
            "um\n",
            "18\n",
            "------------------------index--------------\n",
            "um\n",
            "19\n",
            "------------------------index--------------\n",
            "um\n",
            "20\n",
            "------------------------index--------------\n",
            "um\n",
            "21\n",
            "------------------------index--------------\n",
            "um\n",
            "22\n",
            "------------------------index--------------\n",
            "um\n",
            "23\n",
            "------------------------index--------------\n",
            "um\n",
            "24\n",
            "------------------------index--------------\n",
            "um\n",
            "------------------------inserir listas--------------\n",
            "['item', 'item']\n"
          ],
          "name": "stdout"
        }
      ]
    }
  ]
}