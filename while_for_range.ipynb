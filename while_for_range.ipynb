{
  "nbformat": 4,
  "nbformat_minor": 0,
  "metadata": {
    "colab": {
      "name": "Untitled1.ipynb",
      "provenance": [],
      "authorship_tag": "ABX9TyOZbUZandFX5LA3+18Uc4wy",
      "include_colab_link": true
    },
    "kernelspec": {
      "name": "python3",
      "display_name": "Python 3"
    }
  },
  "cells": [
    {
      "cell_type": "markdown",
      "metadata": {
        "id": "view-in-github",
        "colab_type": "text"
      },
      "source": [
        "<a href=\"https://colab.research.google.com/github/michaellbrito/Python/blob/master/while_for_range.ipynb\" target=\"_parent\"><img src=\"https://colab.research.google.com/assets/colab-badge.svg\" alt=\"Open In Colab\"/></a>"
      ]
    },
    {
      "cell_type": "code",
      "metadata": {
        "id": "i1CYLqev4752",
        "colab_type": "code",
        "colab": {
          "base_uri": "https://localhost:8080/",
          "height": 425
        },
        "outputId": "bb9a9815-5b45-4787-bbe6-4d0a73a3718c"
      },
      "source": [
        "x = 1\n",
        "\n",
        "while x < 2:\n",
        "  print(x)\n",
        "  x+=1\n",
        "  print(\"novo valor:\")\n",
        "  print (x)\n",
        "\n",
        "print (\"------------------------lista--------------\")\n",
        "i = \"ko\"\n",
        "lista1 = [1,2,3,4,5]\n",
        "lista2 = [\"um\",\"dois\",\"tres\"]\n",
        "for e in lista2:\n",
        "  print(i)\n",
        "print (lista2)\n",
        "print (\"------------------------range--------------\")\n",
        "for a in range(10,25):\n",
        "  print(a)"
      ],
      "execution_count": 48,
      "outputs": [
        {
          "output_type": "stream",
          "text": [
            "1\n",
            "novo valor:\n",
            "2\n",
            "------------------------lista--------------\n",
            "ko\n",
            "ko\n",
            "ko\n",
            "['um', 'dois', 'tres']\n",
            "------------------------range--------------\n",
            "10\n",
            "11\n",
            "12\n",
            "13\n",
            "14\n",
            "15\n",
            "16\n",
            "17\n",
            "18\n",
            "19\n",
            "20\n",
            "21\n",
            "22\n",
            "23\n",
            "24\n"
          ],
          "name": "stdout"
        }
      ]
    }
  ]
}