{
  "nbformat": 4,
  "nbformat_minor": 0,
  "metadata": {
    "colab": {
      "name": "textos.ipynb",
      "provenance": [],
      "authorship_tag": "ABX9TyPz3wDA32nv/+997a+9XdaW",
      "include_colab_link": true
    },
    "kernelspec": {
      "name": "python3",
      "display_name": "Python 3"
    }
  },
  "cells": [
    {
      "cell_type": "markdown",
      "metadata": {
        "id": "view-in-github",
        "colab_type": "text"
      },
      "source": [
        "<a href=\"https://colab.research.google.com/github/michaellbrito/Python/blob/master/arquivos_texto.ipynb\" target=\"_parent\"><img src=\"https://colab.research.google.com/assets/colab-badge.svg\" alt=\"Open In Colab\"/></a>"
      ]
    },
    {
      "cell_type": "code",
      "metadata": {
        "id": "BYP2FpLsB43J",
        "colab_type": "code",
        "outputId": "add07ea8-8e9b-4ca5-d24d-95430a10ec5e",
        "colab": {
          "base_uri": "https://localhost:8080/",
          "height": 275
        }
      },
      "source": [
        "arquivo = open(\"arquivo2.txt\",\"r\")\n",
        "linhas = arquivo.readlines()\n",
        "texto_completo = arquivo.read()\n",
        "print (linhas)\n",
        "\n",
        "for linha in linhas:\n",
        "  print(linha)\n",
        "\n",
        "print (texto_completo)\n"
      ],
      "execution_count": 0,
      "outputs": [
        {
          "output_type": "stream",
          "text": [
            "['teste de escrita\\n', ' hahahateste de escrita\\n', ' hahahateste de escrita\\n', ' hahaha\\n', '1\\n', '2\\n']\n",
            "teste de escrita\n",
            "\n",
            " hahahateste de escrita\n",
            "\n",
            " hahahateste de escrita\n",
            "\n",
            " hahaha\n",
            "\n",
            "1\n",
            "\n",
            "2\n",
            "\n",
            "\n"
          ],
          "name": "stdout"
        }
      ]
    },
    {
      "cell_type": "code",
      "metadata": {
        "id": "xvm-l55uEWzV",
        "colab_type": "code",
        "outputId": "3ac1020b-2206-435a-f8af-8d2d167f7a7a",
        "colab": {
          "base_uri": "https://localhost:8080/",
          "height": 34
        }
      },
      "source": [
        "notepad = open(\"arquivo2.txt\",\"a\")\n",
        "notepad.write(\"teste de escrita\\n hahaha\\n 1\\r 2\\r\")\n"
      ],
      "execution_count": 0,
      "outputs": [
        {
          "output_type": "execute_result",
          "data": {
            "text/plain": [
              "31"
            ]
          },
          "metadata": {
            "tags": []
          },
          "execution_count": 46
        }
      ]
    }
  ]
}