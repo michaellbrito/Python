{
  "nbformat": 4,
  "nbformat_minor": 0,
  "metadata": {
    "colab": {
      "name": "tratamento de erros.ipynb",
      "provenance": [],
      "authorship_tag": "ABX9TyPlKUqie90fDQa69QS/lnj8",
      "include_colab_link": true
    },
    "kernelspec": {
      "name": "python3",
      "display_name": "Python 3"
    }
  },
  "cells": [
    {
      "cell_type": "markdown",
      "metadata": {
        "id": "view-in-github",
        "colab_type": "text"
      },
      "source": [
        "<a href=\"https://colab.research.google.com/github/michaellbrito/Python/blob/master/tratamento_de_erros.ipynb\" target=\"_parent\"><img src=\"https://colab.research.google.com/assets/colab-badge.svg\" alt=\"Open In Colab\"/></a>"
      ]
    },
    {
      "cell_type": "code",
      "metadata": {
        "id": "F9F0RnrJHSRR",
        "colab_type": "code",
        "colab": {
          "base_uri": "https://localhost:8080/",
          "height": 51
        },
        "outputId": "19638200-0ee3-45cb-bea4-7608ebfd8f88"
      },
      "source": [
        "a = 2\n",
        "b = 1\n",
        "c = 1\n",
        "try:\n",
        "  print(a/b)\n",
        "except:\n",
        "  print (\"não deu certo\")\n",
        "print (c)\n"
      ],
      "execution_count": 4,
      "outputs": [
        {
          "output_type": "stream",
          "text": [
            "2.0\n",
            "1\n"
          ],
          "name": "stdout"
        }
      ]
    }
  ]
}