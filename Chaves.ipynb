{
  "nbformat": 4,
  "nbformat_minor": 0,
  "metadata": {
    "colab": {
      "name": "Untitled6.ipynb",
      "provenance": [],
      "authorship_tag": "ABX9TyMimKt3rcLjZ4oZ8qDbXJB8",
      "include_colab_link": true
    },
    "kernelspec": {
      "name": "python3",
      "display_name": "Python 3"
    }
  },
  "cells": [
    {
      "cell_type": "markdown",
      "metadata": {
        "id": "view-in-github",
        "colab_type": "text"
      },
      "source": [
        "<a href=\"https://colab.research.google.com/github/michaellbrito/Python/blob/master/Chaves.ipynb\" target=\"_parent\"><img src=\"https://colab.research.google.com/assets/colab-badge.svg\" alt=\"Open In Colab\"/></a>"
      ]
    },
    {
      "cell_type": "code",
      "metadata": {
        "id": "PI3zYrtlGPIE",
        "colab_type": "code",
        "colab": {
          "base_uri": "https://localhost:8080/",
          "height": 289
        },
        "outputId": "b85d657a-990e-4b9d-be3c-3b950619143e"
      },
      "source": [
        "dicionario = {\"A\":\"AMEIXA\",\"B\":\"BRASIl\",\"C\":\"BOLSONARO\"}\n",
        "print (dicionario)\n",
        "for chave in dicionario:\n",
        "    print(chave+\"-\"+dicionario[chave])\n",
        "    print(chave)\n",
        "    print(dicionario[chave])\n",
        "for i in dicionario.items():\n",
        "  print(i)\n",
        "for i in dicionario.values():\n",
        "  print(i)\n",
        "for i in dicionario.values():\n",
        "  print(i)"
      ],
      "execution_count": 29,
      "outputs": [
        {
          "output_type": "stream",
          "text": [
            "{'A': 'AMEIXA', 'B': 'BRASIl', 'C': 'BOLSONARO'}\n",
            "A-AMEIXA\n",
            "A\n",
            "AMEIXA\n",
            "B-BRASIl\n",
            "B\n",
            "BRASIl\n",
            "C-BOLSONARO\n",
            "C\n",
            "BOLSONARO\n",
            "('A', 'AMEIXA')\n",
            "('B', 'BRASIl')\n",
            "('C', 'BOLSONARO')\n",
            "AMEIXA\n",
            "BRASIl\n",
            "BOLSONARO\n"
          ],
          "name": "stdout"
        }
      ]
    }
  ]
}