{
  "nbformat": 4,
  "nbformat_minor": 0,
  "metadata": {
    "colab": {
      "name": "Input.ipynb",
      "provenance": [],
      "collapsed_sections": [],
      "authorship_tag": "ABX9TyPCIKJTBsb3S4zGz2NE9Zq2",
      "include_colab_link": true
    },
    "kernelspec": {
      "name": "python3",
      "display_name": "Python 3"
    }
  },
  "cells": [
    {
      "cell_type": "markdown",
      "metadata": {
        "id": "view-in-github",
        "colab_type": "text"
      },
      "source": [
        "<a href=\"https://colab.research.google.com/github/michaellbrito/Python/blob/master/tratamento_string_importante.ipynb\" target=\"_parent\"><img src=\"https://colab.research.google.com/assets/colab-badge.svg\" alt=\"Open In Colab\"/></a>"
      ]
    },
    {
      "cell_type": "code",
      "metadata": {
        "id": "SEbuGm3U_cTu",
        "colab_type": "code",
        "colab": {
          "base_uri": "https://localhost:8080/",
          "height": 238
        },
        "outputId": "d0ae9dcc-ba5a-4023-d0f1-1aa2d835c78a"
      },
      "source": [
        "#numer = input(\"digite o numero\")\n",
        "#print (\"SEU NUMERO: \"+numer)\n",
        "if numer == '1':\n",
        " print (\"seu numero 1\")\n",
        "else:\n",
        "  print (\"nao sei seu numero\")\n",
        "\n",
        "  print (\"----------------concatenar variaveis-----------\")\n",
        "a=\"diego\"\n",
        "b=\"abdc\"\n",
        "c=\"o\"\n",
        "concatenar = a + \" 1 1\" + b + \" \" + c\n",
        "tamanho = len(concatenar)\n",
        "print (concatenar)\n",
        "print (tamanho)\n",
        "print (concatenar[1])\n",
        "#for xu in concatenar:\n",
        "#  print(xu)\n",
        "print(concatenar.lower())\n",
        "print(concatenar.upper())\n",
        "print(concatenar.strip())\n",
        "print(concatenar.split())\n",
        "print (\"----------------Busca de substring-----------\")\n",
        "busca = concatenar.find(\"o\")\n",
        "print (busca)\n",
        "print (concatenar[busca:])\n",
        "concatenar = concatenar.replace(\"diego\",\"lucas\")\n",
        "print(concatenar)"
      ],
      "execution_count": 65,
      "outputs": [
        {
          "output_type": "stream",
          "text": [
            "nao sei seu numero\n",
            "----------------concatenar variaveis-----------\n",
            "diego 1 1abdc o\n",
            "15\n",
            "i\n",
            "diego 1 1abdc o\n",
            "DIEGO 1 1ABDC O\n",
            "diego 1 1abdc o\n",
            "['diego', '1', '1abdc', 'o']\n",
            "----------------Busca de substring-----------\n",
            "4\n",
            "o 1 1abdc o\n",
            "lucas 1 1abdc o\n"
          ],
          "name": "stdout"
        }
      ]
    }
  ]
}